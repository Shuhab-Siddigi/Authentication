{
 "cells": [
  {
   "cell_type": "code",
   "execution_count": 2,
   "metadata": {},
   "outputs": [],
   "source": [
    "import math\n"
   ]
  },
  {
   "cell_type": "code",
   "execution_count": 5,
   "metadata": {},
   "outputs": [
    {
     "name": "stdout",
     "output_type": "stream",
     "text": [
      "154.0\n"
     ]
    }
   ],
   "source": [
    "#rsa \n",
    "e = 7\n",
    "n = 209\n",
    "m = 22\n",
    "\n",
    "res = math.pow(m,e) % n\n",
    "print(res)"
   ]
  },
  {
   "cell_type": "markdown",
   "metadata": {},
   "source": [
    "### Calculate Computing power with salt\n",
    "salt = 2^10\n",
    "\n",
    "character = 70\n",
    "\n",
    "length = 8\n",
    "\n",
    "computingpower = $1.2*10^{10}$\n",
    "\n",
    "result_in_seconds = $\\frac{character^{length} * salt}{computing\\_power}$\n",
    "\n",
    "result = $\\frac{result\\_in\\_seconds}{60*60*24*365}$\n",
    "\n",
    "round(result) = 2"
   ]
  },
  {
   "cell_type": "code",
   "execution_count": 30,
   "metadata": {},
   "outputs": [
    {
     "name": "stdout",
     "output_type": "stream",
     "text": [
      "2\n"
     ]
    }
   ],
   "source": [
    "second = 60\n",
    "minute = 60\n",
    "hour = 24\n",
    "year = 365\n",
    "saltbits = 10\n",
    "\n",
    "salt = math.pow(2,saltbits)\n",
    "character = 70       \n",
    "length = 8\n",
    "\n",
    "computing_power = 1.2 * math.pow(10,10)\n",
    "res_in_seconds = math.pow(character,length)*salt / computing_power\n",
    "\n",
    "result_in_years = res_in_seconds/(second*minute*hour*year)\n",
    "print(round(result_in_years))\n"
   ]
  },
  {
   "cell_type": "markdown",
   "metadata": {},
   "source": [
    "# Hex to bin"
   ]
  },
  {
   "cell_type": "markdown",
   "metadata": {},
   "source": [
    "# Python code to demonstrate \n",
    "# conversion of hex string\n",
    "# to binary string\n",
    "\n",
    "# Initialising hex string\n",
    "\n",
    "string = [\n",
    "    \"2A 39 42 44 55 5B 37 4f\",\n",
    "    \"4A 6D 78 4A 4B 4C 4D 77\",\n",
    "    \"50 32 33 6C 5A 4E 76 39\"]\n",
    "\n",
    "def converter(input):\n",
    "    output = [] \n",
    "    res = 0 \n",
    "    print(input)\n",
    "    for string in input:\n",
    "        i = len(string) \n",
    "        for hex in string.split():\n",
    "            # Code to convert hex to binary\n",
    "            bin = \"{0:08b}\".format(int(hex, 16))\n",
    "\n",
    "            print(f\"hex = {hex} bin = {bin}\")\n",
    "\n",
    "            res += math.pow(2,i)*int(bin[-1])\n",
    "\n",
    "            i -=1\n",
    "\n",
    "        #print(last)\n",
    "        print(chr(int(res)))\n",
    "        # output.append(chr(int(res)))\n",
    "\n",
    "    return output\n",
    "\n",
    "\n",
    "\n",
    "res = converter(string)\n",
    "print(res)\n",
    "  \n",
    "# Print the resultant string"
   ]
  }
 ],
 "metadata": {
  "interpreter": {
   "hash": "916dbcbb3f70747c44a77c7bcd40155683ae19c65e1c03b4aa3499c5328201f1"
  },
  "kernelspec": {
   "display_name": "Python 3.9.7 64-bit",
   "language": "python",
   "name": "python3"
  },
  "language_info": {
   "codemirror_mode": {
    "name": "ipython",
    "version": 3
   },
   "file_extension": ".py",
   "mimetype": "text/x-python",
   "name": "python",
   "nbconvert_exporter": "python",
   "pygments_lexer": "ipython3",
   "version": "3.7.3"
  },
  "orig_nbformat": 4
 },
 "nbformat": 4,
 "nbformat_minor": 2
}
